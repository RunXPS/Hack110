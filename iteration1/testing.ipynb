{
 "cells": [
  {
   "cell_type": "markdown",
   "metadata": {},
   "source": [
    "# Testing movie_guesser"
   ]
  },
  {
   "cell_type": "code",
   "execution_count": 8,
   "metadata": {},
   "outputs": [],
   "source": [
    "%reload_ext autoreload\n",
    "%autoreload 2"
   ]
  },
  {
   "cell_type": "code",
   "execution_count": 9,
   "metadata": {},
   "outputs": [
    {
     "ename": "ImportError",
     "evalue": "cannot import name 'get_data' from 'movie_guesser' (/workspaces/Hack110/iteration1/movie_guesser.py)",
     "output_type": "error",
     "traceback": [
      "\u001b[0;31m---------------------------------------------------------------------------\u001b[0m",
      "\u001b[0;31mImportError\u001b[0m                               Traceback (most recent call last)",
      "\u001b[1;32m/workspaces/Hack110/iteration1/testing.ipynb Cell 3\u001b[0m line \u001b[0;36m1\n\u001b[0;32m----> <a href='vscode-notebook-cell://codespaces%2Bobscure-pancake-x5wq9jqr4rx43vgr9/workspaces/Hack110/iteration1/testing.ipynb#W5sdnNjb2RlLXJlbW90ZQ%3D%3D?line=0'>1</a>\u001b[0m \u001b[39mfrom\u001b[39;00m \u001b[39mmovie_guesser\u001b[39;00m \u001b[39mimport\u001b[39;00m get_data\n\u001b[1;32m      <a href='vscode-notebook-cell://codespaces%2Bobscure-pancake-x5wq9jqr4rx43vgr9/workspaces/Hack110/iteration1/testing.ipynb#W5sdnNjb2RlLXJlbW90ZQ%3D%3D?line=2'>3</a>\u001b[0m var1 \u001b[39m=\u001b[39m get_data()\n",
      "\u001b[0;31mImportError\u001b[0m: cannot import name 'get_data' from 'movie_guesser' (/workspaces/Hack110/iteration1/movie_guesser.py)"
     ]
    }
   ],
   "source": [
    "from movie_guesser import get_data\n",
    "\n",
    "var1 = get_data()"
   ]
  }
 ],
 "metadata": {
  "kernelspec": {
   "display_name": "Python 3",
   "language": "python",
   "name": "python3"
  },
  "language_info": {
   "codemirror_mode": {
    "name": "ipython",
    "version": 3
   },
   "file_extension": ".py",
   "mimetype": "text/x-python",
   "name": "python",
   "nbconvert_exporter": "python",
   "pygments_lexer": "ipython3",
   "version": "3.10.13"
  }
 },
 "nbformat": 4,
 "nbformat_minor": 2
}
